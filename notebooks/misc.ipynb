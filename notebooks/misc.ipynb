{
 "cells": [
  {
   "cell_type": "code",
   "execution_count": 26,
   "id": "f4dfde6a",
   "metadata": {
    "ExecuteTime": {
     "end_time": "2023-06-01T05:01:59.788867Z",
     "start_time": "2023-06-01T05:01:58.769821Z"
    }
   },
   "outputs": [],
   "source": [
    "import glob\n",
    "import json\n",
    "import numpy as np\n",
    "import pandas as pd\n",
    "from collections import defaultdict\n",
    "from sklearn.metrics.pairwise import cosine_similarity"
   ]
  },
  {
   "cell_type": "markdown",
   "id": "6245efa9",
   "metadata": {},
   "source": [
    "## V1 Taking the first embedding only"
   ]
  },
  {
   "cell_type": "code",
   "execution_count": 76,
   "id": "b84ef629",
   "metadata": {
    "ExecuteTime": {
     "end_time": "2023-06-01T06:00:41.486233Z",
     "start_time": "2023-06-01T06:00:07.041334Z"
    }
   },
   "outputs": [],
   "source": [
    "# take the first summary embedding only\n",
    "embeddings_v1 = dict()\n",
    "for embedding_path in glob.glob('../data/embeddings_v1/*/0.txt'):\n",
    "    movie_id = embedding_path.split('/')[3]\n",
    "    with open(embedding_path, 'r') as fp:\n",
    "        embeddings_v1[movie_id] = [float(val) for val in fp.read().split(',')]"
   ]
  },
  {
   "cell_type": "code",
   "execution_count": 84,
   "id": "b46b9c88",
   "metadata": {
    "ExecuteTime": {
     "end_time": "2023-06-01T06:00:51.257753Z",
     "start_time": "2023-06-01T06:00:50.405887Z"
    }
   },
   "outputs": [],
   "source": [
    "embeddings_v1_matrix = np.array([embedding for embedding in embeddings_v1.values()])"
   ]
  },
  {
   "cell_type": "code",
   "execution_count": 85,
   "id": "a21df455",
   "metadata": {
    "ExecuteTime": {
     "end_time": "2023-06-01T06:00:51.276354Z",
     "start_time": "2023-06-01T06:00:51.262117Z"
    }
   },
   "outputs": [
    {
     "data": {
      "text/plain": [
       "(10904, 1536)"
      ]
     },
     "execution_count": 85,
     "metadata": {},
     "output_type": "execute_result"
    }
   ],
   "source": [
    "embeddings_v1_matrix.shape"
   ]
  },
  {
   "cell_type": "code",
   "execution_count": 86,
   "id": "7166ef9e",
   "metadata": {
    "ExecuteTime": {
     "end_time": "2023-06-01T06:00:51.611853Z",
     "start_time": "2023-06-01T06:00:51.296270Z"
    }
   },
   "outputs": [],
   "source": [
    "with open('../data/embeddings_v1.npy', 'wb') as fp:\n",
    "    np.save(fp, embeddings_v1_matrix)"
   ]
  },
  {
   "cell_type": "code",
   "execution_count": 87,
   "id": "682dfe29",
   "metadata": {
    "ExecuteTime": {
     "end_time": "2023-06-01T06:00:51.634654Z",
     "start_time": "2023-06-01T06:00:51.620439Z"
    }
   },
   "outputs": [],
   "source": [
    "with open('../data/movie_ids.txt', 'w') as fp:\n",
    "    fp.write(', '.join(list(embeddings_v1.keys())))"
   ]
  },
  {
   "cell_type": "code",
   "execution_count": 88,
   "id": "2a1d3771",
   "metadata": {
    "ExecuteTime": {
     "end_time": "2023-06-01T06:00:51.961206Z",
     "start_time": "2023-06-01T06:00:51.896926Z"
    }
   },
   "outputs": [],
   "source": [
    "# is this faster?\n",
    "with open('../data/embeddings_v1.npy', 'rb') as fp:\n",
    "    loaded_embeddings_matrix = np.load(fp)\n",
    "with open('../data/movie_ids.txt', 'r') as fp:\n",
    "    movie_ids = {movie: idx for idx, movie in enumerate(fp.read().split(', '))}"
   ]
  },
  {
   "cell_type": "code",
   "execution_count": 89,
   "id": "c3d4ff7d",
   "metadata": {
    "ExecuteTime": {
     "end_time": "2023-06-01T06:00:52.457457Z",
     "start_time": "2023-06-01T06:00:52.450290Z"
    }
   },
   "outputs": [
    {
     "data": {
      "text/plain": [
       "10904"
      ]
     },
     "execution_count": 89,
     "metadata": {},
     "output_type": "execute_result"
    }
   ],
   "source": [
    "len(movie_ids.keys())"
   ]
  },
  {
   "cell_type": "code",
   "execution_count": 90,
   "id": "4a9ddc2b",
   "metadata": {
    "ExecuteTime": {
     "end_time": "2023-06-01T06:00:58.827280Z",
     "start_time": "2023-06-01T06:00:52.895076Z"
    }
   },
   "outputs": [],
   "source": [
    "# only save the movies we have embeddings for\n",
    "movies = []\n",
    "for summary_path in glob.glob('../data/movies/*/summary.json'):\n",
    "    movie_id = summary_path.split('/')[3]\n",
    "    if movie_id not in movie_ids.keys():\n",
    "        continue\n",
    "    imdb_id = summary_path.split('/')[3].split('_')[0]\n",
    "    with open(summary_path, 'r') as fp:\n",
    "        movie = json.load(fp)\n",
    "        movie['movie_id'] = movie_id\n",
    "        movie['id'] = imdb_id\n",
    "        movies.append(movie)\n",
    "movies_df = pd.DataFrame(movies)"
   ]
  },
  {
   "cell_type": "code",
   "execution_count": 91,
   "id": "4bcd7a61",
   "metadata": {
    "ExecuteTime": {
     "end_time": "2023-06-01T06:00:58.847021Z",
     "start_time": "2023-06-01T06:00:58.831433Z"
    }
   },
   "outputs": [
    {
     "data": {
      "text/plain": [
       "(10904, 12)"
      ]
     },
     "execution_count": 91,
     "metadata": {},
     "output_type": "execute_result"
    }
   ],
   "source": [
    "movies_df.shape"
   ]
  },
  {
   "cell_type": "code",
   "execution_count": 92,
   "id": "4b40c145",
   "metadata": {
    "ExecuteTime": {
     "end_time": "2023-06-01T06:01:16.013649Z",
     "start_time": "2023-06-01T06:00:58.854195Z"
    }
   },
   "outputs": [],
   "source": [
    "# load all movie summary data into memory\n",
    "plot_summaries = defaultdict(list)\n",
    "for plot_summary_path in glob.glob('../data/movies/*/plot_summaries/*.txt'):\n",
    "    imdb_id = plot_summary_path.split('/')[3].split('_')[0]\n",
    "    with open(plot_summary_path, 'r') as fp:\n",
    "        summary = fp.read()\n",
    "        plot_summaries[imdb_id].append((summary, len(summary)))"
   ]
  },
  {
   "cell_type": "code",
   "execution_count": 93,
   "id": "b395d6e8",
   "metadata": {
    "ExecuteTime": {
     "end_time": "2023-06-01T06:01:16.074812Z",
     "start_time": "2023-06-01T06:01:16.036527Z"
    }
   },
   "outputs": [],
   "source": [
    "shortest_plot_summary = dict()\n",
    "for movie, summaries in plot_summaries.items():\n",
    "    shortest_plot_summary[movie] = sorted(summaries, key=lambda x: x[1])[0][0]"
   ]
  },
  {
   "cell_type": "code",
   "execution_count": 94,
   "id": "a5798c2a",
   "metadata": {
    "ExecuteTime": {
     "end_time": "2023-06-01T06:01:16.149870Z",
     "start_time": "2023-06-01T06:01:16.086256Z"
    }
   },
   "outputs": [],
   "source": [
    "movies_df['plot'] = movies_df.id.map(shortest_plot_summary)"
   ]
  },
  {
   "cell_type": "code",
   "execution_count": 95,
   "id": "4cb8e8cd",
   "metadata": {
    "ExecuteTime": {
     "end_time": "2023-06-01T06:01:17.577122Z",
     "start_time": "2023-06-01T06:01:16.154320Z"
    }
   },
   "outputs": [],
   "source": [
    "movies_df['release_year'] = pd.to_datetime(movies_df.release_date.str.split('(').apply(lambda x: x[0]), format='mixed').dt.year"
   ]
  },
  {
   "cell_type": "code",
   "execution_count": 96,
   "id": "1e1bd64a",
   "metadata": {
    "ExecuteTime": {
     "end_time": "2023-06-01T06:01:17.772429Z",
     "start_time": "2023-06-01T06:01:17.580031Z"
    }
   },
   "outputs": [],
   "source": [
    "movies_df.to_csv('../data/movie_summary.csv', index=False)"
   ]
  },
  {
   "cell_type": "code",
   "execution_count": 97,
   "id": "ab0b5363",
   "metadata": {
    "ExecuteTime": {
     "end_time": "2023-06-01T06:01:17.804753Z",
     "start_time": "2023-06-01T06:01:17.786899Z"
    }
   },
   "outputs": [
    {
     "data": {
      "text/html": [
       "<div>\n",
       "<style scoped>\n",
       "    .dataframe tbody tr th:only-of-type {\n",
       "        vertical-align: middle;\n",
       "    }\n",
       "\n",
       "    .dataframe tbody tr th {\n",
       "        vertical-align: top;\n",
       "    }\n",
       "\n",
       "    .dataframe thead th {\n",
       "        text-align: right;\n",
       "    }\n",
       "</style>\n",
       "<table border=\"1\" class=\"dataframe\">\n",
       "  <thead>\n",
       "    <tr style=\"text-align: right;\">\n",
       "      <th></th>\n",
       "      <th>title</th>\n",
       "      <th>genres</th>\n",
       "      <th>director</th>\n",
       "      <th>starring</th>\n",
       "      <th>rating</th>\n",
       "      <th>release_date</th>\n",
       "      <th>runtime</th>\n",
       "      <th>certificate</th>\n",
       "      <th>img_url</th>\n",
       "      <th>plot</th>\n",
       "      <th>movie_id</th>\n",
       "      <th>id</th>\n",
       "      <th>release_year</th>\n",
       "    </tr>\n",
       "  </thead>\n",
       "  <tbody>\n",
       "  </tbody>\n",
       "</table>\n",
       "</div>"
      ],
      "text/plain": [
       "Empty DataFrame\n",
       "Columns: [title, genres, director, starring, rating, release_date, runtime, certificate, img_url, plot, movie_id, id, release_year]\n",
       "Index: []"
      ]
     },
     "execution_count": 97,
     "metadata": {},
     "output_type": "execute_result"
    }
   ],
   "source": [
    "movies_df[movies_df.id == 'tt1245112']"
   ]
  },
  {
   "cell_type": "markdown",
   "id": "9c3776ff",
   "metadata": {},
   "source": [
    "## V2 Taking the average embedding"
   ]
  },
  {
   "cell_type": "code",
   "execution_count": 98,
   "id": "487256c0",
   "metadata": {
    "ExecuteTime": {
     "end_time": "2023-06-01T06:02:40.771091Z",
     "start_time": "2023-06-01T06:01:17.810682Z"
    }
   },
   "outputs": [],
   "source": [
    "# take all the summary embeddings\n",
    "embeddings_v2 = defaultdict(list)\n",
    "for embedding_path in glob.glob('../data/embeddings_v1/*/*.txt'):\n",
    "    movie_id = embedding_path.split('/')[3]\n",
    "    with open(embedding_path, 'r') as fp:\n",
    "        embedding = [float(val) for val in fp.read().split(',')]\n",
    "    embeddings_v2[movie_id].append(embedding)"
   ]
  },
  {
   "cell_type": "code",
   "execution_count": 99,
   "id": "2a67d2a2",
   "metadata": {
    "ExecuteTime": {
     "end_time": "2023-06-01T06:02:40.797707Z",
     "start_time": "2023-06-01T06:02:40.790094Z"
    }
   },
   "outputs": [
    {
     "data": {
      "text/plain": [
       "10904"
      ]
     },
     "execution_count": 99,
     "metadata": {},
     "output_type": "execute_result"
    }
   ],
   "source": [
    "len(embeddings_v2.keys())"
   ]
  },
  {
   "cell_type": "code",
   "execution_count": 100,
   "id": "30bf95e1",
   "metadata": {
    "ExecuteTime": {
     "end_time": "2023-06-01T06:02:40.846716Z",
     "start_time": "2023-06-01T06:02:40.809976Z"
    }
   },
   "outputs": [
    {
     "data": {
      "text/plain": [
       "10904"
      ]
     },
     "execution_count": 100,
     "metadata": {},
     "output_type": "execute_result"
    }
   ],
   "source": [
    "len(embeddings_v1.keys())"
   ]
  },
  {
   "cell_type": "code",
   "execution_count": 101,
   "id": "d4a3e5e0",
   "metadata": {
    "ExecuteTime": {
     "end_time": "2023-06-01T06:02:40.875527Z",
     "start_time": "2023-06-01T06:02:40.855998Z"
    }
   },
   "outputs": [
    {
     "data": {
      "text/plain": [
       "10904"
      ]
     },
     "execution_count": 101,
     "metadata": {},
     "output_type": "execute_result"
    }
   ],
   "source": [
    "len(movie_ids.keys())"
   ]
  },
  {
   "cell_type": "code",
   "execution_count": 102,
   "id": "fdddd3bb",
   "metadata": {
    "ExecuteTime": {
     "end_time": "2023-06-01T06:02:44.391688Z",
     "start_time": "2023-06-01T06:02:40.880818Z"
    }
   },
   "outputs": [],
   "source": [
    "# take the average\n",
    "embedding_v2_matrix = list()\n",
    "for movie_id in movie_ids:\n",
    "    embedding_v2_matrix.append(np.mean(np.array(embeddings_v2[movie_id]), axis=0))\n",
    "embedding_v2_matrix = np.array(embedding_v2_matrix)"
   ]
  },
  {
   "cell_type": "code",
   "execution_count": 103,
   "id": "4068987f",
   "metadata": {
    "ExecuteTime": {
     "end_time": "2023-06-01T06:02:44.732817Z",
     "start_time": "2023-06-01T06:02:44.394080Z"
    }
   },
   "outputs": [],
   "source": [
    "with open('../data/embeddings_v2.npy', 'wb') as fp:\n",
    "    np.save(fp, embedding_v2_matrix)"
   ]
  },
  {
   "cell_type": "code",
   "execution_count": 104,
   "id": "b2a0aa32",
   "metadata": {
    "ExecuteTime": {
     "end_time": "2023-06-01T06:02:44.769516Z",
     "start_time": "2023-06-01T06:02:44.737416Z"
    }
   },
   "outputs": [
    {
     "data": {
      "text/plain": [
       "(10904, 1536)"
      ]
     },
     "execution_count": 104,
     "metadata": {},
     "output_type": "execute_result"
    }
   ],
   "source": [
    "embedding_v2_matrix.shape"
   ]
  },
  {
   "cell_type": "markdown",
   "id": "54f6eed4",
   "metadata": {},
   "source": [
    "## Load and make a prediction"
   ]
  },
  {
   "cell_type": "code",
   "execution_count": 172,
   "id": "07c7ee61",
   "metadata": {
    "ExecuteTime": {
     "end_time": "2023-05-26T06:11:23.928764Z",
     "start_time": "2023-05-26T06:11:23.606098Z"
    }
   },
   "outputs": [],
   "source": [
    "with open('data/embeddings_v1.npy', 'rb') as fp:\n",
    "    loaded_embeddings_matrix = np.load(fp)\n",
    "with open('data/movie_ids.txt', 'r') as fp:\n",
    "    movie_ids = {movie: idx for idx, movie in enumerate(fp.read().split(', '))}\n",
    "with open('data/movie_ids.txt', 'r') as fp:\n",
    "    movie_ids_reverse = {idx: movie for idx, movie in enumerate(fp.read().split(', '))}"
   ]
  },
  {
   "cell_type": "code",
   "execution_count": 165,
   "id": "27ec5a22",
   "metadata": {
    "ExecuteTime": {
     "end_time": "2023-05-26T06:09:24.386482Z",
     "start_time": "2023-05-26T06:09:24.377319Z"
    }
   },
   "outputs": [],
   "source": [
    "selected_movies = ['tt0086250_scarface', 'tt1119646_the_hangover', 'tt0448157_hancock']\n",
    "selected_movie_ids = [movie_ids[movie] for movie in selected_movies]"
   ]
  },
  {
   "cell_type": "code",
   "execution_count": 149,
   "id": "0d957cda",
   "metadata": {
    "ExecuteTime": {
     "end_time": "2023-05-26T06:02:31.483733Z",
     "start_time": "2023-05-26T06:02:31.476536Z"
    }
   },
   "outputs": [],
   "source": [
    "user_embedding = []\n",
    "for movie in selected_movies:\n",
    "    user_embedding.append(loaded_embeddings_matrix[movie_ids[movie]])\n",
    "user_embedding = np.mean(np.array(user_embedding), axis=0)"
   ]
  },
  {
   "cell_type": "code",
   "execution_count": 151,
   "id": "7e7c3eff",
   "metadata": {
    "ExecuteTime": {
     "end_time": "2023-05-26T06:02:38.474364Z",
     "start_time": "2023-05-26T06:02:38.463290Z"
    }
   },
   "outputs": [
    {
     "data": {
      "text/plain": [
       "(1536,)"
      ]
     },
     "execution_count": 151,
     "metadata": {},
     "output_type": "execute_result"
    }
   ],
   "source": [
    "user_embedding.shape"
   ]
  },
  {
   "cell_type": "code",
   "execution_count": 154,
   "id": "f7a530a5",
   "metadata": {
    "ExecuteTime": {
     "end_time": "2023-05-26T06:04:24.461112Z",
     "start_time": "2023-05-26T06:04:24.150908Z"
    }
   },
   "outputs": [],
   "source": [
    "similarity_matrix = cosine_similarity(loaded_embeddings_matrix, user_embedding.reshape(1, -1))"
   ]
  },
  {
   "cell_type": "code",
   "execution_count": 166,
   "id": "a4517112",
   "metadata": {
    "ExecuteTime": {
     "end_time": "2023-05-26T06:09:48.198169Z",
     "start_time": "2023-05-26T06:09:48.176408Z"
    }
   },
   "outputs": [],
   "source": [
    "similarities = sorted([(i, similarity[0]) for i, similarity in enumerate(similarity_matrix)], key=lambda x: x[1], reverse=True)\n",
    "similar_movies = list()\n",
    "for idx, similarity in similarities:\n",
    "    if len(similar_movies) == 10:\n",
    "        break\n",
    "    if idx in selected_movie_ids:\n",
    "        continue\n",
    "    similar_movies.append(idx)"
   ]
  },
  {
   "cell_type": "code",
   "execution_count": 174,
   "id": "ba72c2d6",
   "metadata": {
    "ExecuteTime": {
     "end_time": "2023-05-26T06:11:33.263553Z",
     "start_time": "2023-05-26T06:11:33.247854Z"
    }
   },
   "outputs": [
    {
     "data": {
      "text/plain": [
       "['tt0032209_angels_over_broadway',\n",
       " 'tt3276924_heist',\n",
       " 'tt0091875_running_scared',\n",
       " 'tt0375063_sideways',\n",
       " 'tt1389096_stand_up_guys',\n",
       " 'tt0104952_my_cousin_vinny',\n",
       " 'tt0796375_you_kill_me',\n",
       " 'tt10365998_infinity_pool',\n",
       " 'tt0120620_brokedown_palace',\n",
       " 'tt0104850_memoirs_of_an_invisible_man']"
      ]
     },
     "execution_count": 174,
     "metadata": {},
     "output_type": "execute_result"
    }
   ],
   "source": [
    "[movie_ids_reverse[id] for id in similar_movies]"
   ]
  },
  {
   "cell_type": "code",
   "execution_count": null,
   "id": "04b9a70d",
   "metadata": {},
   "outputs": [],
   "source": []
  },
  {
   "cell_type": "code",
   "execution_count": null,
   "id": "da0f804c",
   "metadata": {},
   "outputs": [],
   "source": []
  }
 ],
 "metadata": {
  "kernelspec": {
   "display_name": "Python 3 (ipykernel)",
   "language": "python",
   "name": "python3"
  },
  "language_info": {
   "codemirror_mode": {
    "name": "ipython",
    "version": 3
   },
   "file_extension": ".py",
   "mimetype": "text/x-python",
   "name": "python",
   "nbconvert_exporter": "python",
   "pygments_lexer": "ipython3",
   "version": "3.10.4"
  },
  "toc": {
   "base_numbering": 1,
   "nav_menu": {},
   "number_sections": true,
   "sideBar": true,
   "skip_h1_title": false,
   "title_cell": "Table of Contents",
   "title_sidebar": "Contents",
   "toc_cell": false,
   "toc_position": {},
   "toc_section_display": true,
   "toc_window_display": false
  }
 },
 "nbformat": 4,
 "nbformat_minor": 5
}
