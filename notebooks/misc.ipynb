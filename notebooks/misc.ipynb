{
 "cells": [
  {
   "cell_type": "code",
   "execution_count": 152,
   "id": "f4dfde6a",
   "metadata": {
    "ExecuteTime": {
     "end_time": "2023-05-26T06:03:57.079310Z",
     "start_time": "2023-05-26T06:02:57.627532Z"
    }
   },
   "outputs": [],
   "source": [
    "import glob\n",
    "import json\n",
    "import numpy as np\n",
    "from collections import defaultdict\n",
    "from sklearn.metrics.pairwise import cosine_similarity"
   ]
  },
  {
   "cell_type": "markdown",
   "id": "6245efa9",
   "metadata": {},
   "source": [
    "## V1 Taking the first embedding only"
   ]
  },
  {
   "cell_type": "code",
   "execution_count": 142,
   "id": "b84ef629",
   "metadata": {
    "ExecuteTime": {
     "end_time": "2023-05-26T06:02:05.111292Z",
     "start_time": "2023-05-26T06:01:24.552384Z"
    }
   },
   "outputs": [],
   "source": [
    "# take the first summary embedding only\n",
    "embeddings_v1 = dict()\n",
    "for embedding_path in glob.glob('data/embeddings_v1/*/0.txt'):\n",
    "    movie_id = embedding_path.split('/')[2]\n",
    "    with open(embedding_path, 'r') as fp:\n",
    "        embeddings_v1[movie_id] = [float(val) for val in fp.read().split(',')]"
   ]
  },
  {
   "cell_type": "code",
   "execution_count": 143,
   "id": "b46b9c88",
   "metadata": {
    "ExecuteTime": {
     "end_time": "2023-05-26T06:02:06.734704Z",
     "start_time": "2023-05-26T06:02:05.193313Z"
    }
   },
   "outputs": [],
   "source": [
    "embeddings_v1_matrix = np.array([embedding for embedding in embeddings_v1.values()])"
   ]
  },
  {
   "cell_type": "code",
   "execution_count": 144,
   "id": "a21df455",
   "metadata": {
    "ExecuteTime": {
     "end_time": "2023-05-26T06:02:06.772079Z",
     "start_time": "2023-05-26T06:02:06.753836Z"
    }
   },
   "outputs": [
    {
     "data": {
      "text/plain": [
       "(10904, 1536)"
      ]
     },
     "execution_count": 144,
     "metadata": {},
     "output_type": "execute_result"
    }
   ],
   "source": [
    "embeddings_v1_matrix.shape"
   ]
  },
  {
   "cell_type": "code",
   "execution_count": 145,
   "id": "7166ef9e",
   "metadata": {
    "ExecuteTime": {
     "end_time": "2023-05-26T06:02:07.344170Z",
     "start_time": "2023-05-26T06:02:06.803783Z"
    }
   },
   "outputs": [],
   "source": [
    "with open('data/embeddings_v1.npy', 'wb') as fp:\n",
    "    np.save(fp, embeddings_v1_matrix)"
   ]
  },
  {
   "cell_type": "code",
   "execution_count": 116,
   "id": "682dfe29",
   "metadata": {
    "ExecuteTime": {
     "end_time": "2023-05-26T05:54:23.277325Z",
     "start_time": "2023-05-26T05:54:23.256673Z"
    }
   },
   "outputs": [],
   "source": [
    "with open('data/movie_ids.txt', 'w') as fp:\n",
    "    fp.write(', '.join(list(embeddings_v1.keys())))"
   ]
  },
  {
   "cell_type": "code",
   "execution_count": 118,
   "id": "2a1d3771",
   "metadata": {
    "ExecuteTime": {
     "end_time": "2023-05-26T05:54:30.887537Z",
     "start_time": "2023-05-26T05:54:30.873741Z"
    }
   },
   "outputs": [],
   "source": [
    "# is this faster?\n",
    "with open('data/embeddings_v1.npy', 'rb') as fp:\n",
    "    loaded_embeddings_matrix = np.load(fp)\n",
    "with open('data/movie_ids.txt', 'r') as fp:\n",
    "    movie_ids = {movie: idx for idx, movie in enumerate(fp.read().split(', '))}"
   ]
  },
  {
   "cell_type": "code",
   "execution_count": 119,
   "id": "c3d4ff7d",
   "metadata": {
    "ExecuteTime": {
     "end_time": "2023-05-26T05:54:31.342898Z",
     "start_time": "2023-05-26T05:54:31.326711Z"
    }
   },
   "outputs": [
    {
     "data": {
      "text/plain": [
       "10904"
      ]
     },
     "execution_count": 119,
     "metadata": {},
     "output_type": "execute_result"
    }
   ],
   "source": [
    "len(movie_ids.keys())"
   ]
  },
  {
   "cell_type": "markdown",
   "id": "9c3776ff",
   "metadata": {},
   "source": [
    "## V2 Taking the average embedding"
   ]
  },
  {
   "cell_type": "code",
   "execution_count": 125,
   "id": "487256c0",
   "metadata": {
    "ExecuteTime": {
     "end_time": "2023-05-26T05:57:57.281040Z",
     "start_time": "2023-05-26T05:55:02.516903Z"
    }
   },
   "outputs": [],
   "source": [
    "# take all the summary embeddings\n",
    "embeddings_v2 = defaultdict(list)\n",
    "for embedding_path in glob.glob('data/embeddings_v1/*/*.txt'):\n",
    "    movie_id = embedding_path.split('/')[2]\n",
    "    with open(embedding_path, 'r') as fp:\n",
    "        embedding = [float(val) for val in fp.read().split(',')]\n",
    "    embeddings_v2[movie_id].append(embedding)"
   ]
  },
  {
   "cell_type": "code",
   "execution_count": 112,
   "id": "2a67d2a2",
   "metadata": {
    "ExecuteTime": {
     "end_time": "2023-05-26T05:53:19.151983Z",
     "start_time": "2023-05-26T05:53:19.139737Z"
    }
   },
   "outputs": [
    {
     "data": {
      "text/plain": [
       "10904"
      ]
     },
     "execution_count": 112,
     "metadata": {},
     "output_type": "execute_result"
    }
   ],
   "source": [
    "len(embeddings_v2.keys())"
   ]
  },
  {
   "cell_type": "code",
   "execution_count": 111,
   "id": "30bf95e1",
   "metadata": {
    "ExecuteTime": {
     "end_time": "2023-05-26T05:53:18.096999Z",
     "start_time": "2023-05-26T05:53:18.088916Z"
    }
   },
   "outputs": [
    {
     "data": {
      "text/plain": [
       "10904"
      ]
     },
     "execution_count": 111,
     "metadata": {},
     "output_type": "execute_result"
    }
   ],
   "source": [
    "len(embeddings_v1.keys())"
   ]
  },
  {
   "cell_type": "code",
   "execution_count": 120,
   "id": "d4a3e5e0",
   "metadata": {
    "ExecuteTime": {
     "end_time": "2023-05-26T05:54:34.471420Z",
     "start_time": "2023-05-26T05:54:34.464127Z"
    }
   },
   "outputs": [
    {
     "data": {
      "text/plain": [
       "10904"
      ]
     },
     "execution_count": 120,
     "metadata": {},
     "output_type": "execute_result"
    }
   ],
   "source": [
    "len(movie_ids.keys())"
   ]
  },
  {
   "cell_type": "code",
   "execution_count": 126,
   "id": "fdddd3bb",
   "metadata": {
    "ExecuteTime": {
     "end_time": "2023-05-26T05:58:04.216967Z",
     "start_time": "2023-05-26T05:57:57.287007Z"
    }
   },
   "outputs": [],
   "source": [
    "# take the average\n",
    "embedding_v2_matrix = list()\n",
    "for movie_id in movie_ids:\n",
    "    embedding_v2_matrix.append(np.mean(np.array(embeddings_v2[movie_id]), axis=0))\n",
    "embedding_v2_matrix = np.array(embedding_v2_matrix)"
   ]
  },
  {
   "cell_type": "code",
   "execution_count": 127,
   "id": "4068987f",
   "metadata": {
    "ExecuteTime": {
     "end_time": "2023-05-26T05:58:04.798369Z",
     "start_time": "2023-05-26T05:58:04.220718Z"
    }
   },
   "outputs": [],
   "source": [
    "with open('data/embeddings_v2.npy', 'wb') as fp:\n",
    "    np.save(fp, embedding_v2_matrix)"
   ]
  },
  {
   "cell_type": "code",
   "execution_count": 130,
   "id": "b2a0aa32",
   "metadata": {
    "ExecuteTime": {
     "end_time": "2023-05-26T05:58:10.485806Z",
     "start_time": "2023-05-26T05:58:10.454008Z"
    }
   },
   "outputs": [
    {
     "data": {
      "text/plain": [
       "(10904, 1536)"
      ]
     },
     "execution_count": 130,
     "metadata": {},
     "output_type": "execute_result"
    }
   ],
   "source": [
    "embedding_v2_matrix.shape"
   ]
  },
  {
   "cell_type": "markdown",
   "id": "54f6eed4",
   "metadata": {},
   "source": [
    "## Load and make a prediction"
   ]
  },
  {
   "cell_type": "code",
   "execution_count": 172,
   "id": "07c7ee61",
   "metadata": {
    "ExecuteTime": {
     "end_time": "2023-05-26T06:11:23.928764Z",
     "start_time": "2023-05-26T06:11:23.606098Z"
    }
   },
   "outputs": [],
   "source": [
    "with open('data/embeddings_v1.npy', 'rb') as fp:\n",
    "    loaded_embeddings_matrix = np.load(fp)\n",
    "with open('data/movie_ids.txt', 'r') as fp:\n",
    "    movie_ids = {movie: idx for idx, movie in enumerate(fp.read().split(', '))}\n",
    "with open('data/movie_ids.txt', 'r') as fp:\n",
    "    movie_ids_reverse = {idx: movie for idx, movie in enumerate(fp.read().split(', '))}"
   ]
  },
  {
   "cell_type": "code",
   "execution_count": 165,
   "id": "27ec5a22",
   "metadata": {
    "ExecuteTime": {
     "end_time": "2023-05-26T06:09:24.386482Z",
     "start_time": "2023-05-26T06:09:24.377319Z"
    }
   },
   "outputs": [],
   "source": [
    "selected_movies = ['tt0086250_scarface', 'tt1119646_the_hangover', 'tt0448157_hancock']\n",
    "selected_movie_ids = [movie_ids[movie] for movie in selected_movies]"
   ]
  },
  {
   "cell_type": "code",
   "execution_count": 149,
   "id": "0d957cda",
   "metadata": {
    "ExecuteTime": {
     "end_time": "2023-05-26T06:02:31.483733Z",
     "start_time": "2023-05-26T06:02:31.476536Z"
    }
   },
   "outputs": [],
   "source": [
    "user_embedding = []\n",
    "for movie in selected_movies:\n",
    "    user_embedding.append(loaded_embeddings_matrix[movie_ids[movie]])\n",
    "user_embedding = np.mean(np.array(user_embedding), axis=0)"
   ]
  },
  {
   "cell_type": "code",
   "execution_count": 151,
   "id": "7e7c3eff",
   "metadata": {
    "ExecuteTime": {
     "end_time": "2023-05-26T06:02:38.474364Z",
     "start_time": "2023-05-26T06:02:38.463290Z"
    }
   },
   "outputs": [
    {
     "data": {
      "text/plain": [
       "(1536,)"
      ]
     },
     "execution_count": 151,
     "metadata": {},
     "output_type": "execute_result"
    }
   ],
   "source": [
    "user_embedding.shape"
   ]
  },
  {
   "cell_type": "code",
   "execution_count": 154,
   "id": "f7a530a5",
   "metadata": {
    "ExecuteTime": {
     "end_time": "2023-05-26T06:04:24.461112Z",
     "start_time": "2023-05-26T06:04:24.150908Z"
    }
   },
   "outputs": [],
   "source": [
    "similarity_matrix = cosine_similarity(loaded_embeddings_matrix, user_embedding.reshape(1, -1))"
   ]
  },
  {
   "cell_type": "code",
   "execution_count": 166,
   "id": "a4517112",
   "metadata": {
    "ExecuteTime": {
     "end_time": "2023-05-26T06:09:48.198169Z",
     "start_time": "2023-05-26T06:09:48.176408Z"
    }
   },
   "outputs": [],
   "source": [
    "similarities = sorted([(i, similarity[0]) for i, similarity in enumerate(similarity_matrix)], key=lambda x: x[1], reverse=True)\n",
    "similar_movies = list()\n",
    "for idx, similarity in similarities:\n",
    "    if len(similar_movies) == 10:\n",
    "        break\n",
    "    if idx in selected_movie_ids:\n",
    "        continue\n",
    "    similar_movies.append(idx)"
   ]
  },
  {
   "cell_type": "code",
   "execution_count": 174,
   "id": "ba72c2d6",
   "metadata": {
    "ExecuteTime": {
     "end_time": "2023-05-26T06:11:33.263553Z",
     "start_time": "2023-05-26T06:11:33.247854Z"
    }
   },
   "outputs": [
    {
     "data": {
      "text/plain": [
       "['tt0032209_angels_over_broadway',\n",
       " 'tt3276924_heist',\n",
       " 'tt0091875_running_scared',\n",
       " 'tt0375063_sideways',\n",
       " 'tt1389096_stand_up_guys',\n",
       " 'tt0104952_my_cousin_vinny',\n",
       " 'tt0796375_you_kill_me',\n",
       " 'tt10365998_infinity_pool',\n",
       " 'tt0120620_brokedown_palace',\n",
       " 'tt0104850_memoirs_of_an_invisible_man']"
      ]
     },
     "execution_count": 174,
     "metadata": {},
     "output_type": "execute_result"
    }
   ],
   "source": [
    "[movie_ids_reverse[id] for id in similar_movies]"
   ]
  },
  {
   "cell_type": "code",
   "execution_count": null,
   "id": "04b9a70d",
   "metadata": {},
   "outputs": [],
   "source": []
  },
  {
   "cell_type": "code",
   "execution_count": null,
   "id": "da0f804c",
   "metadata": {},
   "outputs": [],
   "source": []
  }
 ],
 "metadata": {
  "kernelspec": {
   "display_name": "Python 3 (ipykernel)",
   "language": "python",
   "name": "python3"
  },
  "language_info": {
   "codemirror_mode": {
    "name": "ipython",
    "version": 3
   },
   "file_extension": ".py",
   "mimetype": "text/x-python",
   "name": "python",
   "nbconvert_exporter": "python",
   "pygments_lexer": "ipython3",
   "version": "3.10.4"
  },
  "toc": {
   "base_numbering": 1,
   "nav_menu": {},
   "number_sections": true,
   "sideBar": true,
   "skip_h1_title": false,
   "title_cell": "Table of Contents",
   "title_sidebar": "Contents",
   "toc_cell": false,
   "toc_position": {},
   "toc_section_display": true,
   "toc_window_display": false
  }
 },
 "nbformat": 4,
 "nbformat_minor": 5
}
