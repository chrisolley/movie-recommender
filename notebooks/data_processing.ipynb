{
 "cells": [
  {
   "cell_type": "code",
   "execution_count": 5,
   "id": "bf2ae2dd",
   "metadata": {
    "ExecuteTime": {
     "end_time": "2023-05-23T04:49:03.772216Z",
     "start_time": "2023-05-23T04:49:03.766687Z"
    }
   },
   "outputs": [],
   "source": [
    "import pandas as pd\n",
    "import glob\n",
    "import json\n",
    "import numpy as np\n",
    "import random\n",
    "from collections import defaultdict"
   ]
  },
  {
   "cell_type": "code",
   "execution_count": 41,
   "id": "7081c997",
   "metadata": {
    "ExecuteTime": {
     "end_time": "2023-05-23T05:02:53.789383Z",
     "start_time": "2023-05-23T05:02:45.150717Z"
    }
   },
   "outputs": [],
   "source": [
    "movies = []\n",
    "for summary_path in glob.glob('data/movies/*/summary.json'):\n",
    "    movie_id = summary_path.split('/')[2]\n",
    "    imdb_id = summary_path.split('/')[2].split('_')[0]\n",
    "    with open(summary_path, 'r') as fp:\n",
    "        movie = json.load(fp)\n",
    "        movie['movie_id'] = movie_id\n",
    "        movie['id'] = imdb_id\n",
    "        movies.append(movie)\n",
    "movies_df = pd.DataFrame(movies)"
   ]
  },
  {
   "cell_type": "code",
   "execution_count": 49,
   "id": "c9fb56e6",
   "metadata": {
    "ExecuteTime": {
     "end_time": "2023-05-23T05:03:59.880097Z",
     "start_time": "2023-05-23T05:03:48.773796Z"
    }
   },
   "outputs": [],
   "source": [
    "# load all movie summary data into memory\n",
    "plot_summaries = defaultdict(list)\n",
    "for plot_summary_path in glob.glob('data/movies/*/plot_summaries/*.txt'):\n",
    "    imdb_id = plot_summary_path.split('/')[2].split('_')[0]\n",
    "    with open(plot_summary_path, 'r') as fp:\n",
    "        summary = fp.read()\n",
    "        plot_summaries[imdb_id].append((summary, len(summary)))"
   ]
  },
  {
   "cell_type": "code",
   "execution_count": 50,
   "id": "089d332d",
   "metadata": {
    "ExecuteTime": {
     "end_time": "2023-05-23T05:03:59.979059Z",
     "start_time": "2023-05-23T05:03:59.907546Z"
    }
   },
   "outputs": [],
   "source": [
    "shortest_plot_summary = dict()\n",
    "for movie, summaries in plot_summaries.items():\n",
    "    shortest_plot_summary[movie] = sorted(summaries, key=lambda x: x[1])[0][0]"
   ]
  },
  {
   "cell_type": "code",
   "execution_count": 51,
   "id": "13d381e3",
   "metadata": {
    "ExecuteTime": {
     "end_time": "2023-05-23T05:04:00.002436Z",
     "start_time": "2023-05-23T05:03:59.985511Z"
    }
   },
   "outputs": [
    {
     "data": {
      "text/plain": [
       "'tt1119646'"
      ]
     },
     "execution_count": 51,
     "metadata": {},
     "output_type": "execute_result"
    }
   ],
   "source": [
    "list(plot_summaries.keys())[0]"
   ]
  },
  {
   "cell_type": "code",
   "execution_count": null,
   "id": "2474505e",
   "metadata": {},
   "outputs": [],
   "source": []
  },
  {
   "cell_type": "code",
   "execution_count": 52,
   "id": "0b2d9142",
   "metadata": {
    "ExecuteTime": {
     "end_time": "2023-05-23T05:04:00.053483Z",
     "start_time": "2023-05-23T05:04:00.024298Z"
    }
   },
   "outputs": [],
   "source": [
    "movies_df['plot'] = movies_df.id.map(shortest_plot_summary)"
   ]
  },
  {
   "cell_type": "code",
   "execution_count": 53,
   "id": "48a48be1",
   "metadata": {
    "ExecuteTime": {
     "end_time": "2023-05-23T05:04:02.964376Z",
     "start_time": "2023-05-23T05:04:00.058267Z"
    }
   },
   "outputs": [],
   "source": [
    "movies_df['release_year'] = pd.to_datetime(movies_df.release_date.str.split('(').apply(lambda x: x[0]), format='mixed').dt.year"
   ]
  },
  {
   "cell_type": "code",
   "execution_count": 54,
   "id": "506a95f2",
   "metadata": {
    "ExecuteTime": {
     "end_time": "2023-05-23T05:04:02.986242Z",
     "start_time": "2023-05-23T05:04:02.968153Z"
    }
   },
   "outputs": [
    {
     "data": {
      "text/plain": [
       "'A young Honduran girl and a Mexican gangster are united in a journey across the American border.'"
      ]
     },
     "execution_count": 54,
     "metadata": {},
     "output_type": "execute_result"
    }
   ],
   "source": [
    "movies_df['plot'].iloc[100]"
   ]
  },
  {
   "cell_type": "code",
   "execution_count": 56,
   "id": "53b6c67f",
   "metadata": {
    "ExecuteTime": {
     "end_time": "2023-05-23T05:04:40.685237Z",
     "start_time": "2023-05-23T05:04:40.212238Z"
    }
   },
   "outputs": [],
   "source": [
    "movies_df.to_csv('./data/movie_summary.csv', index=False)"
   ]
  },
  {
   "cell_type": "code",
   "execution_count": 57,
   "id": "42245757",
   "metadata": {
    "ExecuteTime": {
     "end_time": "2023-05-23T05:04:51.791854Z",
     "start_time": "2023-05-23T05:04:51.347871Z"
    }
   },
   "outputs": [
    {
     "data": {
      "text/html": [
       "<div>\n",
       "<style scoped>\n",
       "    .dataframe tbody tr th:only-of-type {\n",
       "        vertical-align: middle;\n",
       "    }\n",
       "\n",
       "    .dataframe tbody tr th {\n",
       "        vertical-align: top;\n",
       "    }\n",
       "\n",
       "    .dataframe thead th {\n",
       "        text-align: right;\n",
       "    }\n",
       "</style>\n",
       "<table border=\"1\" class=\"dataframe\">\n",
       "  <thead>\n",
       "    <tr style=\"text-align: right;\">\n",
       "      <th></th>\n",
       "      <th>title</th>\n",
       "      <th>genres</th>\n",
       "      <th>director</th>\n",
       "      <th>starring</th>\n",
       "      <th>rating</th>\n",
       "      <th>release_date</th>\n",
       "      <th>runtime</th>\n",
       "      <th>certificate</th>\n",
       "      <th>img_url</th>\n",
       "      <th>plot</th>\n",
       "      <th>movie_id</th>\n",
       "      <th>id</th>\n",
       "      <th>release_year</th>\n",
       "    </tr>\n",
       "  </thead>\n",
       "  <tbody>\n",
       "    <tr>\n",
       "      <th>0</th>\n",
       "      <td>The Hangover</td>\n",
       "      <td>Comedy</td>\n",
       "      <td>Todd Phillips</td>\n",
       "      <td>Zach Galifianakis, Bradley Cooper, Justin Bartha</td>\n",
       "      <td>7.7</td>\n",
       "      <td>June 5, 2009 (United States)</td>\n",
       "      <td>1 hour 40 minutes</td>\n",
       "      <td>R</td>\n",
       "      <td>https://m.media-amazon.com/images/M/MV5BNGQwZj...</td>\n",
       "      <td>Three buddies wake up from a bachelor party in...</td>\n",
       "      <td>tt1119646_the_hangover</td>\n",
       "      <td>tt1119646</td>\n",
       "      <td>2009</td>\n",
       "    </tr>\n",
       "    <tr>\n",
       "      <th>1</th>\n",
       "      <td>Ladder 49</td>\n",
       "      <td>Action, Drama, Thriller</td>\n",
       "      <td>Jay Russell</td>\n",
       "      <td>Joaquin Phoenix, John Travolta, Jacinda Barrett</td>\n",
       "      <td>6.5</td>\n",
       "      <td>October 1, 2004 (United States)</td>\n",
       "      <td>1 hour 55 minutes</td>\n",
       "      <td>PG-13</td>\n",
       "      <td>https://m.media-amazon.com/images/M/MV5BMjEyND...</td>\n",
       "      <td>A firefighter, injured and trapped in a burnin...</td>\n",
       "      <td>tt0349710_ladder_49</td>\n",
       "      <td>tt0349710</td>\n",
       "      <td>2004</td>\n",
       "    </tr>\n",
       "    <tr>\n",
       "      <th>2</th>\n",
       "      <td>Mark of the Vampire</td>\n",
       "      <td>Horror, Mystery</td>\n",
       "      <td>Tod Browning</td>\n",
       "      <td>Lionel Barrymore, Elizabeth Allan, Bela Lugosi</td>\n",
       "      <td>6.3</td>\n",
       "      <td>April 26, 1935 (United States)</td>\n",
       "      <td>1 hour</td>\n",
       "      <td>Passed</td>\n",
       "      <td>https://m.media-amazon.com/images/M/MV5BMTY4MT...</td>\n",
       "      <td>When a nobleman is murdered, a professor of th...</td>\n",
       "      <td>tt0026685_mark_of_the_vampire</td>\n",
       "      <td>tt0026685</td>\n",
       "      <td>1935</td>\n",
       "    </tr>\n",
       "    <tr>\n",
       "      <th>3</th>\n",
       "      <td>The Mark of Zorro</td>\n",
       "      <td>Action, Adventure, Family</td>\n",
       "      <td>Rouben Mamoulian</td>\n",
       "      <td>Tyrone Power, Linda Darnell, Basil Rathbone</td>\n",
       "      <td>7.5</td>\n",
       "      <td>November 8, 1940 (United States)</td>\n",
       "      <td>1 hour 34 minutes</td>\n",
       "      <td>Approved</td>\n",
       "      <td>https://m.media-amazon.com/images/M/MV5BMTU2OD...</td>\n",
       "      <td>A young Spanish aristocrat must masquerade as ...</td>\n",
       "      <td>tt0032762_the_mark_of_zorro</td>\n",
       "      <td>tt0032762</td>\n",
       "      <td>1940</td>\n",
       "    </tr>\n",
       "    <tr>\n",
       "      <th>4</th>\n",
       "      <td>Son of Paleface</td>\n",
       "      <td>Comedy, Western</td>\n",
       "      <td>Frank Tashlin</td>\n",
       "      <td>Bob Hope, Jane Russell, Roy Rogers</td>\n",
       "      <td>6.8</td>\n",
       "      <td>July 14, 1952 (United States)</td>\n",
       "      <td>1 hour 35 minutes</td>\n",
       "      <td>Passed</td>\n",
       "      <td>https://m.media-amazon.com/images/M/MV5BMzc1Nz...</td>\n",
       "      <td>Junior Potter returns to claim his father's go...</td>\n",
       "      <td>tt0045177_son_of_paleface</td>\n",
       "      <td>tt0045177</td>\n",
       "      <td>1952</td>\n",
       "    </tr>\n",
       "    <tr>\n",
       "      <th>...</th>\n",
       "      <td>...</td>\n",
       "      <td>...</td>\n",
       "      <td>...</td>\n",
       "      <td>...</td>\n",
       "      <td>...</td>\n",
       "      <td>...</td>\n",
       "      <td>...</td>\n",
       "      <td>...</td>\n",
       "      <td>...</td>\n",
       "      <td>...</td>\n",
       "      <td>...</td>\n",
       "      <td>...</td>\n",
       "      <td>...</td>\n",
       "    </tr>\n",
       "    <tr>\n",
       "      <th>10903</th>\n",
       "      <td>Othello</td>\n",
       "      <td>Drama, Romance</td>\n",
       "      <td>Oliver Parker</td>\n",
       "      <td>Laurence Fishburne, Kenneth Branagh, Irène Jacob</td>\n",
       "      <td>6.9</td>\n",
       "      <td>January 19, 1996 (United States)</td>\n",
       "      <td>2 hours 3 minutes</td>\n",
       "      <td>R</td>\n",
       "      <td>https://m.media-amazon.com/images/M/MV5BNzVlMj...</td>\n",
       "      <td>The Moorish General Othello is manipulated int...</td>\n",
       "      <td>tt0114057_othello</td>\n",
       "      <td>tt0114057</td>\n",
       "      <td>1996</td>\n",
       "    </tr>\n",
       "    <tr>\n",
       "      <th>10904</th>\n",
       "      <td>Get Shorty</td>\n",
       "      <td>Comedy, Crime, Thriller</td>\n",
       "      <td>Barry Sonnenfeld</td>\n",
       "      <td>Gene Hackman, Rene Russo, Danny DeVito</td>\n",
       "      <td>6.9</td>\n",
       "      <td>October 20, 1995 (United States)</td>\n",
       "      <td>1 hour 45 minutes</td>\n",
       "      <td>R</td>\n",
       "      <td>https://m.media-amazon.com/images/M/MV5BMjAwOD...</td>\n",
       "      <td>A mobster travels to Hollywood to collect a de...</td>\n",
       "      <td>tt0113161_get_shorty</td>\n",
       "      <td>tt0113161</td>\n",
       "      <td>1995</td>\n",
       "    </tr>\n",
       "    <tr>\n",
       "      <th>10905</th>\n",
       "      <td>American Honey</td>\n",
       "      <td>Adventure, Drama, Romance</td>\n",
       "      <td>Andrea Arnold</td>\n",
       "      <td>Sasha Lane, Shia LaBeouf, Riley Keough</td>\n",
       "      <td>7.0</td>\n",
       "      <td>October 14, 2016 (United Kingdom)</td>\n",
       "      <td>2 hours 43 minutes</td>\n",
       "      <td>R</td>\n",
       "      <td>https://m.media-amazon.com/images/M/MV5BMTk1MD...</td>\n",
       "      <td>A teenage girl with nothing to lose joins a tr...</td>\n",
       "      <td>tt3721936_american_honey</td>\n",
       "      <td>tt3721936</td>\n",
       "      <td>2016</td>\n",
       "    </tr>\n",
       "    <tr>\n",
       "      <th>10906</th>\n",
       "      <td>The Uninvited</td>\n",
       "      <td>Fantasy, Horror, Mystery</td>\n",
       "      <td>Lewis Allen</td>\n",
       "      <td>Ray Milland, Ruth Hussey, Donald Crisp</td>\n",
       "      <td>7.2</td>\n",
       "      <td>February 24, 1944 (Canada)</td>\n",
       "      <td>1 hour 39 minutes</td>\n",
       "      <td>Passed</td>\n",
       "      <td>https://m.media-amazon.com/images/M/MV5BNGVhNz...</td>\n",
       "      <td>A composer and his sister discover that the re...</td>\n",
       "      <td>tt0037415_the_uninvited</td>\n",
       "      <td>tt0037415</td>\n",
       "      <td>1944</td>\n",
       "    </tr>\n",
       "    <tr>\n",
       "      <th>10907</th>\n",
       "      <td>Relic</td>\n",
       "      <td>Drama, Horror, Mystery</td>\n",
       "      <td>Natalie Erika James</td>\n",
       "      <td>Robyn Nevin, Emily Mortimer, Bella Heathcote</td>\n",
       "      <td>6.0</td>\n",
       "      <td>July 10, 2020 (United States)</td>\n",
       "      <td>1 hour 29 minutes</td>\n",
       "      <td>R</td>\n",
       "      <td>https://m.media-amazon.com/images/M/MV5BOGY1MG...</td>\n",
       "      <td>A daughter, mother and grandmother are haunted...</td>\n",
       "      <td>tt9072352_relic</td>\n",
       "      <td>tt9072352</td>\n",
       "      <td>2020</td>\n",
       "    </tr>\n",
       "  </tbody>\n",
       "</table>\n",
       "<p>10908 rows × 13 columns</p>\n",
       "</div>"
      ],
      "text/plain": [
       "                     title                     genres             director   \n",
       "0             The Hangover                     Comedy        Todd Phillips  \\\n",
       "1                Ladder 49    Action, Drama, Thriller          Jay Russell   \n",
       "2      Mark of the Vampire            Horror, Mystery         Tod Browning   \n",
       "3        The Mark of Zorro  Action, Adventure, Family     Rouben Mamoulian   \n",
       "4          Son of Paleface            Comedy, Western        Frank Tashlin   \n",
       "...                    ...                        ...                  ...   \n",
       "10903              Othello             Drama, Romance        Oliver Parker   \n",
       "10904           Get Shorty    Comedy, Crime, Thriller     Barry Sonnenfeld   \n",
       "10905       American Honey  Adventure, Drama, Romance        Andrea Arnold   \n",
       "10906        The Uninvited   Fantasy, Horror, Mystery          Lewis Allen   \n",
       "10907                Relic     Drama, Horror, Mystery  Natalie Erika James   \n",
       "\n",
       "                                               starring  rating   \n",
       "0      Zach Galifianakis, Bradley Cooper, Justin Bartha     7.7  \\\n",
       "1       Joaquin Phoenix, John Travolta, Jacinda Barrett     6.5   \n",
       "2        Lionel Barrymore, Elizabeth Allan, Bela Lugosi     6.3   \n",
       "3           Tyrone Power, Linda Darnell, Basil Rathbone     7.5   \n",
       "4                    Bob Hope, Jane Russell, Roy Rogers     6.8   \n",
       "...                                                 ...     ...   \n",
       "10903  Laurence Fishburne, Kenneth Branagh, Irène Jacob     6.9   \n",
       "10904            Gene Hackman, Rene Russo, Danny DeVito     6.9   \n",
       "10905            Sasha Lane, Shia LaBeouf, Riley Keough     7.0   \n",
       "10906            Ray Milland, Ruth Hussey, Donald Crisp     7.2   \n",
       "10907      Robyn Nevin, Emily Mortimer, Bella Heathcote     6.0   \n",
       "\n",
       "                            release_date             runtime certificate   \n",
       "0           June 5, 2009 (United States)   1 hour 40 minutes           R  \\\n",
       "1        October 1, 2004 (United States)   1 hour 55 minutes       PG-13   \n",
       "2         April 26, 1935 (United States)              1 hour      Passed   \n",
       "3       November 8, 1940 (United States)   1 hour 34 minutes    Approved   \n",
       "4          July 14, 1952 (United States)   1 hour 35 minutes      Passed   \n",
       "...                                  ...                 ...         ...   \n",
       "10903   January 19, 1996 (United States)   2 hours 3 minutes           R   \n",
       "10904   October 20, 1995 (United States)   1 hour 45 minutes           R   \n",
       "10905  October 14, 2016 (United Kingdom)  2 hours 43 minutes           R   \n",
       "10906         February 24, 1944 (Canada)   1 hour 39 minutes      Passed   \n",
       "10907      July 10, 2020 (United States)   1 hour 29 minutes           R   \n",
       "\n",
       "                                                 img_url   \n",
       "0      https://m.media-amazon.com/images/M/MV5BNGQwZj...  \\\n",
       "1      https://m.media-amazon.com/images/M/MV5BMjEyND...   \n",
       "2      https://m.media-amazon.com/images/M/MV5BMTY4MT...   \n",
       "3      https://m.media-amazon.com/images/M/MV5BMTU2OD...   \n",
       "4      https://m.media-amazon.com/images/M/MV5BMzc1Nz...   \n",
       "...                                                  ...   \n",
       "10903  https://m.media-amazon.com/images/M/MV5BNzVlMj...   \n",
       "10904  https://m.media-amazon.com/images/M/MV5BMjAwOD...   \n",
       "10905  https://m.media-amazon.com/images/M/MV5BMTk1MD...   \n",
       "10906  https://m.media-amazon.com/images/M/MV5BNGVhNz...   \n",
       "10907  https://m.media-amazon.com/images/M/MV5BOGY1MG...   \n",
       "\n",
       "                                                    plot   \n",
       "0      Three buddies wake up from a bachelor party in...  \\\n",
       "1      A firefighter, injured and trapped in a burnin...   \n",
       "2      When a nobleman is murdered, a professor of th...   \n",
       "3      A young Spanish aristocrat must masquerade as ...   \n",
       "4      Junior Potter returns to claim his father's go...   \n",
       "...                                                  ...   \n",
       "10903  The Moorish General Othello is manipulated int...   \n",
       "10904  A mobster travels to Hollywood to collect a de...   \n",
       "10905  A teenage girl with nothing to lose joins a tr...   \n",
       "10906  A composer and his sister discover that the re...   \n",
       "10907  A daughter, mother and grandmother are haunted...   \n",
       "\n",
       "                            movie_id         id  release_year  \n",
       "0             tt1119646_the_hangover  tt1119646          2009  \n",
       "1                tt0349710_ladder_49  tt0349710          2004  \n",
       "2      tt0026685_mark_of_the_vampire  tt0026685          1935  \n",
       "3        tt0032762_the_mark_of_zorro  tt0032762          1940  \n",
       "4          tt0045177_son_of_paleface  tt0045177          1952  \n",
       "...                              ...        ...           ...  \n",
       "10903              tt0114057_othello  tt0114057          1996  \n",
       "10904           tt0113161_get_shorty  tt0113161          1995  \n",
       "10905       tt3721936_american_honey  tt3721936          2016  \n",
       "10906        tt0037415_the_uninvited  tt0037415          1944  \n",
       "10907                tt9072352_relic  tt9072352          2020  \n",
       "\n",
       "[10908 rows x 13 columns]"
      ]
     },
     "execution_count": 57,
     "metadata": {},
     "output_type": "execute_result"
    }
   ],
   "source": [
    "pd.read_csv('./data/movie_summary.csv')"
   ]
  },
  {
   "cell_type": "code",
   "execution_count": null,
   "id": "2991c379",
   "metadata": {},
   "outputs": [],
   "source": [
    ">>> import itertools\n",
    ">>> list2d = [[1,2,3], [4,5,6], [7], [8,9]]\n",
    ">>> merged = list(itertools.chain.from_iterable(list2d))"
   ]
  },
  {
   "cell_type": "code",
   "execution_count": 82,
   "id": "80af4e8c",
   "metadata": {
    "ExecuteTime": {
     "end_time": "2023-05-23T05:58:01.900396Z",
     "start_time": "2023-05-23T05:58:01.894943Z"
    }
   },
   "outputs": [],
   "source": [
    "import itertools"
   ]
  },
  {
   "cell_type": "code",
   "execution_count": 90,
   "id": "ceae784f",
   "metadata": {
    "ExecuteTime": {
     "end_time": "2023-05-23T06:06:23.845308Z",
     "start_time": "2023-05-23T06:06:23.575894Z"
    }
   },
   "outputs": [
    {
     "data": {
      "text/html": [
       "<div>\n",
       "<style scoped>\n",
       "    .dataframe tbody tr th:only-of-type {\n",
       "        vertical-align: middle;\n",
       "    }\n",
       "\n",
       "    .dataframe tbody tr th {\n",
       "        vertical-align: top;\n",
       "    }\n",
       "\n",
       "    .dataframe thead th {\n",
       "        text-align: right;\n",
       "    }\n",
       "</style>\n",
       "<table border=\"1\" class=\"dataframe\">\n",
       "  <thead>\n",
       "    <tr style=\"text-align: right;\">\n",
       "      <th></th>\n",
       "      <th>title</th>\n",
       "      <th>genres</th>\n",
       "      <th>director</th>\n",
       "      <th>starring</th>\n",
       "      <th>rating</th>\n",
       "      <th>release_date</th>\n",
       "      <th>runtime</th>\n",
       "      <th>certificate</th>\n",
       "      <th>img_url</th>\n",
       "      <th>plot</th>\n",
       "      <th>movie_id</th>\n",
       "      <th>id</th>\n",
       "      <th>release_year</th>\n",
       "    </tr>\n",
       "  </thead>\n",
       "  <tbody>\n",
       "    <tr>\n",
       "      <th>11</th>\n",
       "      <td>The Plague Dogs</td>\n",
       "      <td>Animation, Adventure, Drama</td>\n",
       "      <td>Martin Rosen</td>\n",
       "      <td>John Hurt, Christopher Benjamin, James Bolam</td>\n",
       "      <td>7.7</td>\n",
       "      <td>January 9, 1985 (United States)</td>\n",
       "      <td>1 hour 43 minutes</td>\n",
       "      <td>PG-13</td>\n",
       "      <td>https://m.media-amazon.com/images/M/MV5BNDA1ZD...</td>\n",
       "      <td>Two dogs escape from a laboratory and are hunt...</td>\n",
       "      <td>tt0084509_the_plague_dogs</td>\n",
       "      <td>tt0084509</td>\n",
       "      <td>1985</td>\n",
       "    </tr>\n",
       "    <tr>\n",
       "      <th>14</th>\n",
       "      <td>Looney Tunes: Back in Action</td>\n",
       "      <td>Animation, Adventure, Comedy</td>\n",
       "      <td>Joe Dante</td>\n",
       "      <td>Brendan Fraser, Jenna Elfman, Steve Martin</td>\n",
       "      <td>5.8</td>\n",
       "      <td>November 14, 2003 (United States)</td>\n",
       "      <td>1 hour 31 minutes</td>\n",
       "      <td>PG</td>\n",
       "      <td>https://m.media-amazon.com/images/M/MV5BZDc0NT...</td>\n",
       "      <td>The Looney Tunes search for a man's missing fa...</td>\n",
       "      <td>tt0318155_looney_tunes:_back_in_action</td>\n",
       "      <td>tt0318155</td>\n",
       "      <td>2003</td>\n",
       "    </tr>\n",
       "    <tr>\n",
       "      <th>29</th>\n",
       "      <td>The Rescuers</td>\n",
       "      <td>Animation, Adventure, Comedy</td>\n",
       "      <td>John Lounsbery</td>\n",
       "      <td>Bob Newhart, Eva Gabor, Geraldine Page</td>\n",
       "      <td>6.9</td>\n",
       "      <td>June 22, 1977 (United States)</td>\n",
       "      <td>1 hour 17 minutes</td>\n",
       "      <td>G</td>\n",
       "      <td>https://m.media-amazon.com/images/M/MV5BMjMwND...</td>\n",
       "      <td>Two mice of the Rescue Aid Society search for ...</td>\n",
       "      <td>tt0076618_the_rescuers</td>\n",
       "      <td>tt0076618</td>\n",
       "      <td>1977</td>\n",
       "    </tr>\n",
       "    <tr>\n",
       "      <th>31</th>\n",
       "      <td>Wreck-It Ralph</td>\n",
       "      <td>Animation, Adventure, Comedy</td>\n",
       "      <td>Rich Moore</td>\n",
       "      <td>John C. Reilly, Jack McBrayer, Jane Lynch</td>\n",
       "      <td>7.7</td>\n",
       "      <td>November 2, 2012 (United States)</td>\n",
       "      <td>1 hour 41 minutes</td>\n",
       "      <td>PG</td>\n",
       "      <td>https://m.media-amazon.com/images/M/MV5BNzMxNT...</td>\n",
       "      <td>A video game villain wants to be a hero and se...</td>\n",
       "      <td>tt1772341_wreck-it_ralph</td>\n",
       "      <td>tt1772341</td>\n",
       "      <td>2012</td>\n",
       "    </tr>\n",
       "    <tr>\n",
       "      <th>54</th>\n",
       "      <td>Pocahontas</td>\n",
       "      <td>Animation, Adventure, Drama</td>\n",
       "      <td>Mike Gabriel</td>\n",
       "      <td>Mel Gibson, Linda Hunt, Christian Bale</td>\n",
       "      <td>6.7</td>\n",
       "      <td>June 23, 1995 (United States)</td>\n",
       "      <td>1 hour 21 minutes</td>\n",
       "      <td>G</td>\n",
       "      <td>https://m.media-amazon.com/images/M/MV5BMzc4Yz...</td>\n",
       "      <td>An English soldier and the daughter of an Algo...</td>\n",
       "      <td>tt0114148_pocahontas</td>\n",
       "      <td>tt0114148</td>\n",
       "      <td>1995</td>\n",
       "    </tr>\n",
       "    <tr>\n",
       "      <th>...</th>\n",
       "      <td>...</td>\n",
       "      <td>...</td>\n",
       "      <td>...</td>\n",
       "      <td>...</td>\n",
       "      <td>...</td>\n",
       "      <td>...</td>\n",
       "      <td>...</td>\n",
       "      <td>...</td>\n",
       "      <td>...</td>\n",
       "      <td>...</td>\n",
       "      <td>...</td>\n",
       "      <td>...</td>\n",
       "      <td>...</td>\n",
       "    </tr>\n",
       "    <tr>\n",
       "      <th>10809</th>\n",
       "      <td>Demon Slayer the Movie: Mugen Train</td>\n",
       "      <td>Animation, Action, Adventure</td>\n",
       "      <td>Haruo Sotozaki</td>\n",
       "      <td>Natsuki Hanae, Akari Kitô, Yoshitsugu Matsuoka</td>\n",
       "      <td>8.2</td>\n",
       "      <td>April 23, 2021 (United States)</td>\n",
       "      <td>1 hour 57 minutes</td>\n",
       "      <td>TV-14</td>\n",
       "      <td>https://m.media-amazon.com/images/M/MV5BODI2Nj...</td>\n",
       "      <td>After his family was brutally murdered and his...</td>\n",
       "      <td>tt11032374_demon_slayer_the_movie:_mugen_train</td>\n",
       "      <td>tt11032374</td>\n",
       "      <td>2021</td>\n",
       "    </tr>\n",
       "    <tr>\n",
       "      <th>10825</th>\n",
       "      <td>How to Train Your Dragon</td>\n",
       "      <td>Animation, Action, Adventure</td>\n",
       "      <td>Dean DeBlois</td>\n",
       "      <td>Jay Baruchel, Gerard Butler, Christopher Mintz...</td>\n",
       "      <td>8.1</td>\n",
       "      <td>March 26, 2010 (United States)</td>\n",
       "      <td>1 hour 38 minutes</td>\n",
       "      <td>PG</td>\n",
       "      <td>https://m.media-amazon.com/images/M/MV5BMjA5ND...</td>\n",
       "      <td>A hapless young Viking who aspires to hunt dra...</td>\n",
       "      <td>tt0892769_how_to_train_your_dragon</td>\n",
       "      <td>tt0892769</td>\n",
       "      <td>2010</td>\n",
       "    </tr>\n",
       "    <tr>\n",
       "      <th>10834</th>\n",
       "      <td>Ice Age: The Meltdown</td>\n",
       "      <td>Animation, Adventure, Comedy</td>\n",
       "      <td>Carlos Saldanha</td>\n",
       "      <td>Ray Romano, John Leguizamo, Denis Leary</td>\n",
       "      <td>6.8</td>\n",
       "      <td>March 31, 2006 (United States)</td>\n",
       "      <td>1 hour 31 minutes</td>\n",
       "      <td>PG</td>\n",
       "      <td>https://m.media-amazon.com/images/M/MV5BMjAwOD...</td>\n",
       "      <td>Manny, Sid and Diego discover that the ice age...</td>\n",
       "      <td>tt0438097_ice_age:_the_meltdown</td>\n",
       "      <td>tt0438097</td>\n",
       "      <td>2006</td>\n",
       "    </tr>\n",
       "    <tr>\n",
       "      <th>10864</th>\n",
       "      <td>Brave</td>\n",
       "      <td>Animation, Adventure, Comedy</td>\n",
       "      <td>Mark Andrews</td>\n",
       "      <td>Kelly Macdonald, Billy Connolly, Emma Thompson</td>\n",
       "      <td>7.1</td>\n",
       "      <td>June 19, 2012 (United States)</td>\n",
       "      <td>1 hour 33 minutes</td>\n",
       "      <td>PG</td>\n",
       "      <td>https://m.media-amazon.com/images/M/MV5BMzgwOD...</td>\n",
       "      <td>Determined to make her own path in life, Princ...</td>\n",
       "      <td>tt1217209_brave</td>\n",
       "      <td>tt1217209</td>\n",
       "      <td>2012</td>\n",
       "    </tr>\n",
       "    <tr>\n",
       "      <th>10886</th>\n",
       "      <td>Asterix the Gaul</td>\n",
       "      <td>Animation, Action, Adventure</td>\n",
       "      <td>Ray Goossens</td>\n",
       "      <td>Roger Carel, Jacques Morel, Pierre Tornade</td>\n",
       "      <td>6.6</td>\n",
       "      <td>July 31, 1968 (United States)</td>\n",
       "      <td>1 hour 8 minutes</td>\n",
       "      <td>1h 8m</td>\n",
       "      <td>https://m.media-amazon.com/images/M/MV5BOGE2ND...</td>\n",
       "      <td>Asterix, the most cunning warrior of a Gaulish...</td>\n",
       "      <td>tt0061369_asterix_the_gaul</td>\n",
       "      <td>tt0061369</td>\n",
       "      <td>1968</td>\n",
       "    </tr>\n",
       "  </tbody>\n",
       "</table>\n",
       "<p>435 rows × 13 columns</p>\n",
       "</div>"
      ],
      "text/plain": [
       "                                     title                        genres   \n",
       "11                         The Plague Dogs   Animation, Adventure, Drama  \\\n",
       "14            Looney Tunes: Back in Action  Animation, Adventure, Comedy   \n",
       "29                            The Rescuers  Animation, Adventure, Comedy   \n",
       "31                          Wreck-It Ralph  Animation, Adventure, Comedy   \n",
       "54                              Pocahontas   Animation, Adventure, Drama   \n",
       "...                                    ...                           ...   \n",
       "10809  Demon Slayer the Movie: Mugen Train  Animation, Action, Adventure   \n",
       "10825             How to Train Your Dragon  Animation, Action, Adventure   \n",
       "10834                Ice Age: The Meltdown  Animation, Adventure, Comedy   \n",
       "10864                                Brave  Animation, Adventure, Comedy   \n",
       "10886                     Asterix the Gaul  Animation, Action, Adventure   \n",
       "\n",
       "              director                                           starring   \n",
       "11        Martin Rosen       John Hurt, Christopher Benjamin, James Bolam  \\\n",
       "14           Joe Dante         Brendan Fraser, Jenna Elfman, Steve Martin   \n",
       "29      John Lounsbery             Bob Newhart, Eva Gabor, Geraldine Page   \n",
       "31          Rich Moore          John C. Reilly, Jack McBrayer, Jane Lynch   \n",
       "54        Mike Gabriel             Mel Gibson, Linda Hunt, Christian Bale   \n",
       "...                ...                                                ...   \n",
       "10809   Haruo Sotozaki     Natsuki Hanae, Akari Kitô, Yoshitsugu Matsuoka   \n",
       "10825     Dean DeBlois  Jay Baruchel, Gerard Butler, Christopher Mintz...   \n",
       "10834  Carlos Saldanha            Ray Romano, John Leguizamo, Denis Leary   \n",
       "10864     Mark Andrews     Kelly Macdonald, Billy Connolly, Emma Thompson   \n",
       "10886     Ray Goossens         Roger Carel, Jacques Morel, Pierre Tornade   \n",
       "\n",
       "      rating                       release_date            runtime   \n",
       "11       7.7    January 9, 1985 (United States)  1 hour 43 minutes  \\\n",
       "14       5.8  November 14, 2003 (United States)  1 hour 31 minutes   \n",
       "29       6.9      June 22, 1977 (United States)  1 hour 17 minutes   \n",
       "31       7.7   November 2, 2012 (United States)  1 hour 41 minutes   \n",
       "54       6.7      June 23, 1995 (United States)  1 hour 21 minutes   \n",
       "...      ...                                ...                ...   \n",
       "10809    8.2     April 23, 2021 (United States)  1 hour 57 minutes   \n",
       "10825    8.1     March 26, 2010 (United States)  1 hour 38 minutes   \n",
       "10834    6.8     March 31, 2006 (United States)  1 hour 31 minutes   \n",
       "10864    7.1      June 19, 2012 (United States)  1 hour 33 minutes   \n",
       "10886    6.6      July 31, 1968 (United States)   1 hour 8 minutes   \n",
       "\n",
       "      certificate                                            img_url   \n",
       "11          PG-13  https://m.media-amazon.com/images/M/MV5BNDA1ZD...  \\\n",
       "14             PG  https://m.media-amazon.com/images/M/MV5BZDc0NT...   \n",
       "29              G  https://m.media-amazon.com/images/M/MV5BMjMwND...   \n",
       "31             PG  https://m.media-amazon.com/images/M/MV5BNzMxNT...   \n",
       "54              G  https://m.media-amazon.com/images/M/MV5BMzc4Yz...   \n",
       "...           ...                                                ...   \n",
       "10809       TV-14  https://m.media-amazon.com/images/M/MV5BODI2Nj...   \n",
       "10825          PG  https://m.media-amazon.com/images/M/MV5BMjA5ND...   \n",
       "10834          PG  https://m.media-amazon.com/images/M/MV5BMjAwOD...   \n",
       "10864          PG  https://m.media-amazon.com/images/M/MV5BMzgwOD...   \n",
       "10886       1h 8m  https://m.media-amazon.com/images/M/MV5BOGE2ND...   \n",
       "\n",
       "                                                    plot   \n",
       "11     Two dogs escape from a laboratory and are hunt...  \\\n",
       "14     The Looney Tunes search for a man's missing fa...   \n",
       "29     Two mice of the Rescue Aid Society search for ...   \n",
       "31     A video game villain wants to be a hero and se...   \n",
       "54     An English soldier and the daughter of an Algo...   \n",
       "...                                                  ...   \n",
       "10809  After his family was brutally murdered and his...   \n",
       "10825  A hapless young Viking who aspires to hunt dra...   \n",
       "10834  Manny, Sid and Diego discover that the ice age...   \n",
       "10864  Determined to make her own path in life, Princ...   \n",
       "10886  Asterix, the most cunning warrior of a Gaulish...   \n",
       "\n",
       "                                             movie_id          id   \n",
       "11                          tt0084509_the_plague_dogs   tt0084509  \\\n",
       "14             tt0318155_looney_tunes:_back_in_action   tt0318155   \n",
       "29                             tt0076618_the_rescuers   tt0076618   \n",
       "31                           tt1772341_wreck-it_ralph   tt1772341   \n",
       "54                               tt0114148_pocahontas   tt0114148   \n",
       "...                                               ...         ...   \n",
       "10809  tt11032374_demon_slayer_the_movie:_mugen_train  tt11032374   \n",
       "10825              tt0892769_how_to_train_your_dragon   tt0892769   \n",
       "10834                 tt0438097_ice_age:_the_meltdown   tt0438097   \n",
       "10864                                 tt1217209_brave   tt1217209   \n",
       "10886                      tt0061369_asterix_the_gaul   tt0061369   \n",
       "\n",
       "       release_year  \n",
       "11             1985  \n",
       "14             2003  \n",
       "29             1977  \n",
       "31             2012  \n",
       "54             1995  \n",
       "...             ...  \n",
       "10809          2021  \n",
       "10825          2010  \n",
       "10834          2006  \n",
       "10864          2012  \n",
       "10886          1968  \n",
       "\n",
       "[435 rows x 13 columns]"
      ]
     },
     "execution_count": 90,
     "metadata": {},
     "output_type": "execute_result"
    }
   ],
   "source": [
    "movies_df[movies_df['genres'].str.contains('Animation')]"
   ]
  },
  {
   "cell_type": "markdown",
   "id": "67c87269",
   "metadata": {},
   "source": []
  },
  {
   "cell_type": "code",
   "execution_count": 64,
   "id": "1cd310b0",
   "metadata": {
    "ExecuteTime": {
     "end_time": "2023-05-23T05:21:27.116684Z",
     "start_time": "2023-05-23T05:21:27.112301Z"
    }
   },
   "outputs": [],
   "source": [
    "import random"
   ]
  },
  {
   "cell_type": "code",
   "execution_count": 75,
   "id": "8d374b15",
   "metadata": {
    "ExecuteTime": {
     "end_time": "2023-05-23T05:22:58.975358Z",
     "start_time": "2023-05-23T05:22:58.966318Z"
    }
   },
   "outputs": [
    {
     "data": {
      "text/plain": [
       "'{\"title\":\"Fellini Satyricon\",\"genres\":\"Drama, Fantasy\",\"director\":\"Federico Fellini\",\"starring\":\"Martin Potter, Hiram Keller, Max Born\",\"rating\":\"6.8\",\"release_date\":\"March 11, 1970 (United States)\",\"runtime\":\"2 hours 9 minutes\",\"certificate\":\"R\",\"img_url\":\"https:\\\\/\\\\/m.media-amazon.com\\\\/images\\\\/M\\\\/MV5BYmY1YmNiZjctNDJiMS00MDQxLWE4NzQtODhiYmUwOWZlMGZkXkEyXkFqcGdeQXVyMjUzOTY1NTc@._V1_QL75_UX380_CR0,8,380,562_.jpg\",\"plot\":\"A series of disjointed mythical tales set in first-century Rome.\",\"movie_id\":\"tt0064940_fellini_satyricon\",\"id\":\"tt0064940\",\"release_year\":1970}'"
      ]
     },
     "execution_count": 75,
     "metadata": {},
     "output_type": "execute_result"
    }
   ],
   "source": [
    "movies_df.iloc[int(random.random() * movies_df.shape[0])].to_json()"
   ]
  },
  {
   "cell_type": "code",
   "execution_count": 62,
   "id": "bcc18f55",
   "metadata": {
    "ExecuteTime": {
     "end_time": "2023-05-23T05:18:14.068337Z",
     "start_time": "2023-05-23T05:18:14.042589Z"
    }
   },
   "outputs": [
    {
     "data": {
      "text/plain": [
       "'{\"title\":\"Ladder 49\",\"genres\":\"Action, Drama, Thriller\",\"director\":\"Jay Russell\",\"starring\":\"Joaquin Phoenix, John Travolta, Jacinda Barrett\",\"rating\":\"6.5\",\"release_date\":\"October 1, 2004 (United States)\",\"runtime\":\"1 hour 55 minutes\",\"certificate\":\"PG-13\",\"img_url\":\"https:\\\\/\\\\/m.media-amazon.com\\\\/images\\\\/M\\\\/MV5BMjEyNDQ0NjAzMV5BMl5BanBnXkFtZTcwMjk2OTUyMQ@@._V1_QL75_UX380_CR0,0,380,562_.jpg\",\"plot\":\"A firefighter, injured and trapped in a burning building, has flashbacks of his life as he drifts in and out of consciousness. Meanwhile, fellow firefighters led by the Chief attempt to rescue him.\",\"movie_id\":\"tt0349710_ladder_49\",\"id\":\"tt0349710\",\"release_year\":2004}'"
      ]
     },
     "execution_count": 62,
     "metadata": {},
     "output_type": "execute_result"
    }
   ],
   "source": [
    "movies_df[movies_df['movie_id'] == 'tt0349710_ladder_49'].iloc[0].to_json()"
   ]
  },
  {
   "cell_type": "code",
   "execution_count": null,
   "id": "cc8cd4dc",
   "metadata": {},
   "outputs": [],
   "source": []
  }
 ],
 "metadata": {
  "kernelspec": {
   "display_name": "Python 3 (ipykernel)",
   "language": "python",
   "name": "python3"
  },
  "language_info": {
   "codemirror_mode": {
    "name": "ipython",
    "version": 3
   },
   "file_extension": ".py",
   "mimetype": "text/x-python",
   "name": "python",
   "nbconvert_exporter": "python",
   "pygments_lexer": "ipython3",
   "version": "3.10.4"
  },
  "toc": {
   "base_numbering": 1,
   "nav_menu": {},
   "number_sections": true,
   "sideBar": true,
   "skip_h1_title": false,
   "title_cell": "Table of Contents",
   "title_sidebar": "Contents",
   "toc_cell": false,
   "toc_position": {},
   "toc_section_display": true,
   "toc_window_display": false
  }
 },
 "nbformat": 4,
 "nbformat_minor": 5
}
